{
 "cells": [
  {
   "cell_type": "code",
   "execution_count": 398,
   "metadata": {},
   "outputs": [],
   "source": [
    "%matplotlib inline\n",
    "import matplotlib.pyplot as plt\n",
    "import matplotlib.image as mpimg\n",
    "import numpy as np\n",
    "from random import random"
   ]
  },
  {
   "cell_type": "code",
   "execution_count": 399,
   "metadata": {},
   "outputs": [],
   "source": [
    "class ChessBoard:\n",
    "    black = [0,0,0,1]\n",
    "    white = [1,1,1,1] \n",
    "    blue = [0,1,1,1] \n",
    "    red = [1,.2,0,1]\n",
    "    \n",
    "    def __init__(self):\n",
    "        self.cube = np.random.uniform(size=(8,8,4))\n",
    "        for i in range(8):\n",
    "            for y in range(8):\n",
    "                if (i%2==0 and y%2==0) or (i%2==1 and y%2==1):\n",
    "                    self.cube[i,y] = ChessBoard.white\n",
    "                else:\n",
    "                       self.cube[i,y] = ChessBoard.black \n",
    "                    \n",
    "                              \n",
    "        \n",
    "    def add_blue( self , i_blue ,y_blue ):\n",
    "\n",
    "        self.i_blue=i_blue\n",
    "        self.y_blue=y_blue\n",
    "        self.cube[i_blue , y_blue]=ChessBoard.red\n",
    "\n",
    "        \n",
    "        \n",
    "    def add_red (self , i_red , y_red):\n",
    "        \n",
    "        self.i_red=i_red\n",
    "        self.y_red=y_red\n",
    "        self.cube[i_red , y_red]=ChessBoard.blue\n",
    "        \n",
    "        \n",
    "    def render (self):\n",
    "        plt.imshow(self.cube)\n",
    "        \n",
    "    def is_under_attack(self ,i_red , i_blue, y_red , y_blue): \n",
    "        \n",
    "        if self.i_red == self.i_blue:\n",
    "            return True\n",
    "        elif self.y_red == self.y_blue:\n",
    "            return True\n",
    "        \n",
    "        elif abs(self.i_red - self.y_blue) == abs(self.i_blue - self.y_red):\n",
    "            return True\n",
    "        else :\n",
    "            return False\n",
    "        \n",
    "        "
   ]
  },
  {
   "cell_type": "code",
   "execution_count": 400,
   "metadata": {},
   "outputs": [
    {
     "data": {
      "image/png": "[encoded data removed]",
      "text/plain": [
       "<Figure size 432x288 with 1 Axes>"
      ]
     },
     "metadata": {
      "needs_background": "light"
     },
     "output_type": "display_data"
    }
   ],
   "source": [
    "a=ChessBoard()\n",
    "a.add_blue(1,5)\n",
    "a.add_red(3,5)\n",
    "a.render()"
   ]
  },
  {
   "cell_type": "code",
   "execution_count": 401,
   "metadata": {},
   "outputs": [],
   "source": [
    "\n",
    "assert a.is_under_attack(3,5,3,1) == True\n",
    "assert a.is_under_attack(1,5,2,5) == True\n",
    "assert a.is_under_attack(1,5,3,3) == True\n",
    "# assert a.is_under_attack(4,5,3,6)==False\n"
   ]
  }
 ],
 "metadata": {
  "interpreter": {
   "hash": "1c94a1ec7ef5c86bc2c164a05d13c1d89b5598f0a926d3cfdb1eb4ab931f6194"
  },
  "kernelspec": {
   "display_name": "Python 3",
   "language": "python",
   "name": "python3"
  },
  "language_info": {
   "codemirror_mode": {
    "name": "ipython",
    "version": 3
   },
   "file_extension": ".py",
   "mimetype": "text/x-python",
   "name": "python",
   "nbconvert_exporter": "python",
   "pygments_lexer": "ipython3",
   "version": "3.9.4"
  }
 },
 "nbformat": 4,
 "nbformat_minor": 4
}
