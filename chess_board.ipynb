%matplotlib inline
import matplotlib.pyplot as plt
# import matplotlib.image as mpimg
import numpy as np
from random import random
class ChessBoard:
    black = [0,0,0,1]
    white = [1,1,1,1] 
    blue = [0,1,1,1] 
    red = [1,.2,0,1]
    
    def __init__(self):
        
        self.cube = np.random.uniform(size=(8,8,4))
        for i in range(8):
            for y in range(8):
                if (i%2==0 and y%2==0) or (i%2==1 and y%2==1):
                    self.cube[i,y] = ChessBoard.white
                else:
                       self.cube[i,y] = ChessBoard.black 
                    
                              
        
    def add_blue( self , i_blue ,y_blue ):

        self.i_blue=i_blue
        self.y_blue=y_blue
        self.cube[i_blue , y_blue]=ChessBoard.blue

        
        
    def add_red (self , i_red , y_red):
        
        self.i_red=i_red
        self.y_red=y_red
        self.cube[i_red , y_red]=ChessBoard.red
        
        
    def render (self):
        plt.imshow(self.cube)
        
        
    def is_under_attack(self,i_red, y_red,i_blue,y_blue):
     
        if i_red == i_blue: 
            return True
        elif  y_red == y_blue:
            return True
        elif abs(i_red -  i_blue) == abs(y_red - y_blue):
            return True
        else: 
            return False
        

        borad=ChessBoard()
borad.add_blue(3,5)
borad.add_red(5,6)
borad.render()


def test():
    assert borad.is_under_attack(4,5,4,6) == True 
    assert borad.is_under_attack(3,6,4,6) == True 
    assert borad.is_under_attack(3,5,4,6) == True 
    assert borad.is_under_attack(0,0,4,6) == False
    print('all test is success')
test()
